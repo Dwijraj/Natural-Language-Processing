{
 "cells": [
  {
   "cell_type": "markdown",
   "metadata": {},
   "source": [
    "# Sentiment Analysis"
   ]
  },
  {
   "cell_type": "markdown",
   "metadata": {},
   "source": [
    "### Reading the data"
   ]
  },
  {
   "cell_type": "code",
   "execution_count": 1,
   "metadata": {},
   "outputs": [
    {
     "name": "stdout",
     "output_type": "stream",
     "text": [
      "1000/1000\n"
     ]
    }
   ],
   "source": [
    "import os\n",
    "from string import punctuation\n",
    "from collections import Counter\n",
    "from nltk import word_tokenize\n",
    "from nltk.corpus import stopwords\n",
    "Neg='neg'\n",
    "Pos='pos'\n",
    "\n",
    "Neg_Docs=list()\n",
    "Pos_Docs=list()\n",
    "\n",
    "def GetDocs(Folder):\n",
    "    List=list()\n",
    "    Path=os.path.join(os.getcwd(),Folder)\n",
    "    for doc in os.listdir(Path):\n",
    "        file=open(os.path.join(Path,doc),'r')\n",
    "        text=file.read()\n",
    "        file.close()\n",
    "        List.append(text)\n",
    "    return List\n",
    "Neg_Docs=GetDocs(Neg)\n",
    "Pos_Docs=GetDocs(Pos)\n",
    "print(''+str(len(Neg_Docs))+'/'+str(len(Pos_Docs)))"
   ]
  },
  {
   "cell_type": "markdown",
   "metadata": {},
   "source": [
    "### Splitting into training and testing set"
   ]
  },
  {
   "cell_type": "code",
   "execution_count": 2,
   "metadata": {},
   "outputs": [
    {
     "name": "stdout",
     "output_type": "stream",
     "text": [
      "1800\n",
      "1800\n",
      "200\n",
      "200\n"
     ]
    }
   ],
   "source": [
    "from numpy import array\n",
    "split=900\n",
    "training_data=Neg_Docs[:split]+Pos_Docs[:split]\n",
    "print(len(training_data))\n",
    "training_labels=array([0 for _ in range(split)]+[1 for _ in range(split)])\n",
    "print(len(training_labels))\n",
    "testing_data=Neg_Docs[split:]+Pos_Docs[split:]\n",
    "print(len(testing_data))\n",
    "testing_labels=array([0 for _ in range(1000-split)]+[1 for _ in range(1000-split)])\n",
    "print(len(testing_labels))"
   ]
  },
  {
   "cell_type": "markdown",
   "metadata": {},
   "source": [
    "### Generating Vocabulary"
   ]
  },
  {
   "cell_type": "code",
   "execution_count": 3,
   "metadata": {},
   "outputs": [
    {
     "name": "stdout",
     "output_type": "stream",
     "text": [
      "41914\n",
      "19092\n"
     ]
    }
   ],
   "source": [
    "from nltk import SnowballStemmer\n",
    "vocab=Counter()\n",
    "Stop_words=set(stopwords.words('english'))\n",
    "def GetTokens(is_stem=False):\n",
    "    for doc in training_data:\n",
    "        # Generatting the words\n",
    "        tokens=word_tokenize(doc)\n",
    "        # Removing punctutation \n",
    "        table=str.maketrans(' ',' ',punctuation)\n",
    "        tokens=[w.translate(table) for w in tokens ]\n",
    "        #Keep only alphabetic\n",
    "        tokens=[w for w in tokens if w.isalpha()]\n",
    "        #Remove stop words\n",
    "        tokens=[w for w in tokens if w not in Stop_words]\n",
    "        #Remove short tokens\n",
    "        tokens=[w for w in tokens if len(w)>1]\n",
    "        #Stem is required\n",
    "        if(is_stem):\n",
    "            stemmer=SnowballStemmer()\n",
    "            tokens=[stemmer.stem(w) for w in tokens]\n",
    "        vocab.update(tokens)\n",
    "GetTokens(False)\n",
    "print(len(vocab))\n",
    "min_occurance=2\n",
    "tokens=[k for k,c in vocab.items() if(c>min_occurance)]\n",
    "print(len(tokens))"
   ]
  },
  {
   "cell_type": "code",
   "execution_count": 4,
   "metadata": {},
   "outputs": [
    {
     "name": "stdout",
     "output_type": "stream",
     "text": [
      "plot : two teen couples go to a church party , drink and then drive . \n",
      "they get into an accident . \n",
      "one of the guys dies , but his girlfriend continues to see him in her life , and has nightmares . \n",
      "what's the deal ? \n",
      "watch the movie and \" sorta \" find out . . . \n",
      "critique : a mind-fuck movie for the teen generation that touches on a very cool idea , but presents it in a very bad package . \n",
      "which is what makes this review an even harder one to write , since i generally applaud films which attempt to break the mold , mess with your head and such ( lost highway & memento ) , but there are good and bad ways of making all types of films , and these folks just didn't snag this one correctly . \n",
      "they seem to have taken this pretty neat concept , but executed it terribly . \n",
      "so what are the problems with the movie ? \n",
      "well , its main problem is that it's simply too jumbled . \n",
      "it starts off \" normal \" but then downshifts into this \" fantasy \" world in which you , as an audience member , have no idea what's going on . \n",
      "there are dreams , there are characters coming back from the dead , there are others who look like the dead , there are strange apparitions , there are disappearances , there are a looooot of chase scenes , there are tons of weird things that happen , and most of it is simply not explained . \n",
      "now i personally don't mind trying to unravel a film every now and then , but when all it does is give me the same clue over and over again , i get kind of fed up after a while , which is this film's biggest problem . \n",
      "it's obviously got this big secret to hide , but it seems to want to hide it completely until its final five minutes . \n",
      "and do they make things entertaining , thrilling or even engaging , in the meantime ? \n",
      "not really . \n",
      "the sad part is that the arrow and i both dig on flicks like this , so we actually figured most of it out by the half-way point , so all of the strangeness after that did start to make a little bit of sense , but it still didn't the make the film all that more entertaining . \n",
      "i guess the bottom line with movies like this is that you should always make sure that the audience is \" into it \" even before they are given the secret password to enter your world of understanding . \n",
      "i mean , showing melissa sagemiller running away from visions for about 20 minutes throughout the movie is just plain lazy ! ! \n",
      "okay , we get it . . . there \n",
      "are people chasing her and we don't know who they are . \n",
      "do we really need to see it over and over again ? \n",
      "how about giving us different scenes offering further insight into all of the strangeness going down in the movie ? \n",
      "apparently , the studio took this film away from its director and chopped it up themselves , and it shows . \n",
      "there might've been a pretty decent teen mind-fuck movie in here somewhere , but i guess \" the suits \" decided that turning it into a music video with little edge , would make more sense . \n",
      "the actors are pretty good for the most part , although wes bentley just seemed to be playing the exact same character that he did in american beauty , only in a new neighborhood . \n",
      "but my biggest kudos go out to sagemiller , who holds her own throughout the entire film , and actually has you feeling her character's unraveling . \n",
      "overall , the film doesn't stick because it doesn't entertain , it's confusing , it rarely excites and it feels pretty redundant for most of its runtime , despite a pretty cool ending and explanation to all of the craziness that came before it . \n",
      "oh , and by the way , this is not a horror or teen slasher flick . . . it's \n",
      "just packaged to look that way because someone is apparently assuming that the genre is still hot with the kids . \n",
      "it also wrapped production two years ago and has been sitting on the shelves ever since . \n",
      "whatever . . . skip \n",
      "it ! \n",
      "where's joblo coming from ? \n",
      "a nightmare of elm street 3 ( 7/10 ) - blair witch 2 ( 7/10 ) - the crow ( 9/10 ) - the crow : salvation ( 4/10 ) - lost highway ( 10/10 ) - memento ( 10/10 ) - the others ( 9/10 ) - stir of echoes ( 8/10 ) \n",
      "\n"
     ]
    }
   ],
   "source": [
    "print(training_data[0])"
   ]
  },
  {
   "cell_type": "markdown",
   "metadata": {},
   "source": [
    "### Converting doc into suitable form"
   ]
  },
  {
   "cell_type": "code",
   "execution_count": 5,
   "metadata": {},
   "outputs": [],
   "source": [
    "def GetCleanedDoc(folder):\n",
    "    data=[]\n",
    "    for doc in folder:\n",
    "        d=''\n",
    "        for w in word_tokenize(doc):\n",
    "           # print(w)\n",
    "            if(w in tokens):\n",
    "                d+=w+' '\n",
    "        data.append(d)\n",
    "    return data\n",
    "training_data=GetCleanedDoc(training_data)\n",
    "testing_data=GetCleanedDoc(testing_data)"
   ]
  },
  {
   "cell_type": "markdown",
   "metadata": {},
   "source": [
    "## Saving data into pickle format for easy loading"
   ]
  },
  {
   "cell_type": "code",
   "execution_count": 6,
   "metadata": {},
   "outputs": [],
   "source": [
    "from six.moves import cPickle as pickle\n",
    "with open('Data.pickle','wb') as file:\n",
    "    save={\n",
    "           'training_data':training_data,\n",
    "           'training_labels':training_labels,\n",
    "           'testing_data':testing_data,\n",
    "           'testing_labels':testing_labels,\n",
    "           'vocab':vocab,\n",
    "    }\n",
    "    pickle.dump(save,file,pickle.HIGHEST_PROTOCOL)   "
   ]
  },
  {
   "cell_type": "markdown",
   "metadata": {},
   "source": [
    "## Start running notbook from next line"
   ]
  },
  {
   "cell_type": "code",
   "execution_count": 7,
   "metadata": {},
   "outputs": [
    {
     "name": "stdout",
     "output_type": "stream",
     "text": [
      "200\n"
     ]
    }
   ],
   "source": [
    "from six.moves import cPickle as pickle\n",
    "with open('Data.pickle','rb') as file:\n",
    "    Data=pickle.load(file)\n",
    "    training_data=Data['training_data']\n",
    "    testing_data=Data['testing_data']\n",
    "    training_labels=Data['training_labels']\n",
    "    testing_labels=Data['testing_labels']\n",
    "    vocab=Data['vocab']\n",
    "    tokens=set(vocab)\n",
    "    print(len(testing_data))"
   ]
  },
  {
   "cell_type": "code",
   "execution_count": 8,
   "metadata": {},
   "outputs": [
    {
     "name": "stderr",
     "output_type": "stream",
     "text": [
      "c:\\users\\dwijraj\\appdata\\local\\programs\\python\\python36\\lib\\site-packages\\h5py\\__init__.py:36: FutureWarning: Conversion of the second argument of issubdtype from `float` to `np.floating` is deprecated. In future, it will be treated as `np.float64 == np.dtype(float).type`.\n",
      "  from ._conv import register_converters as _register_converters\n",
      "Using TensorFlow backend.\n"
     ]
    }
   ],
   "source": [
    "from keras.preprocessing.text import Tokenizer\n",
    "from keras.preprocessing.sequence import pad_sequences\n",
    "from keras.models import Sequential\n",
    "from keras.layers import Dense\n",
    "from keras.layers import Flatten\n",
    "from keras.layers import Embedding\n",
    "tokenizer=Tokenizer()\n",
    "tokenizer.fit_on_texts(training_data)"
   ]
  },
  {
   "cell_type": "code",
   "execution_count": 9,
   "metadata": {},
   "outputs": [],
   "source": [
    "encoded_docs=tokenizer.texts_to_sequences(training_data)\n",
    "max_length = max([len(s.split()) for s in training_data])\n",
    "training_data = pad_sequences(encoded_docs, maxlen=max_length, padding='post')"
   ]
  },
  {
   "cell_type": "code",
   "execution_count": 10,
   "metadata": {},
   "outputs": [],
   "source": [
    "vocab_size = len(tokenizer.word_index) + 1"
   ]
  },
  {
   "cell_type": "code",
   "execution_count": 11,
   "metadata": {},
   "outputs": [
    {
     "name": "stdout",
     "output_type": "stream",
     "text": [
      "_________________________________________________________________\n",
      "Layer (type)                 Output Shape              Param #   \n",
      "=================================================================\n",
      "embedding_1 (Embedding)      (None, 1255, 100)         1850200   \n",
      "_________________________________________________________________\n",
      "conv1d_1 (Conv1D)            (None, 1248, 32)          25632     \n",
      "_________________________________________________________________\n",
      "max_pooling1d_1 (MaxPooling1 (None, 624, 32)           0         \n",
      "_________________________________________________________________\n",
      "flatten_1 (Flatten)          (None, 19968)             0         \n",
      "_________________________________________________________________\n",
      "dense_1 (Dense)              (None, 10)                199690    \n",
      "_________________________________________________________________\n",
      "dense_2 (Dense)              (None, 1)                 11        \n",
      "=================================================================\n",
      "Total params: 2,075,533\n",
      "Trainable params: 2,075,533\n",
      "Non-trainable params: 0\n",
      "_________________________________________________________________\n",
      "None\n"
     ]
    }
   ],
   "source": [
    "from keras.layers.convolutional import Conv1D\n",
    "from keras.layers.convolutional import MaxPooling1D\n",
    "model = Sequential()\n",
    "model.add(Embedding(vocab_size, 100, input_length=max_length))\n",
    "model.add(Conv1D(filters=32, kernel_size=8, activation='relu'))\n",
    "model.add(MaxPooling1D(pool_size=2))\n",
    "model.add(Flatten())\n",
    "model.add(Dense(10, activation='relu'))\n",
    "model.add(Dense(1, activation='sigmoid'))\n",
    "print(model.summary())"
   ]
  },
  {
   "cell_type": "code",
   "execution_count": 12,
   "metadata": {},
   "outputs": [
    {
     "name": "stdout",
     "output_type": "stream",
     "text": [
      "Epoch 1/10\n",
      "20s - loss: 0.6880 - acc: 0.5489\n",
      "Epoch 2/10\n",
      "20s - loss: 0.5421 - acc: 0.7711\n",
      "Epoch 3/10\n",
      "20s - loss: 0.1010 - acc: 0.9783\n",
      "Epoch 4/10\n",
      "20s - loss: 0.0080 - acc: 1.0000\n",
      "Epoch 5/10\n",
      "20s - loss: 0.0027 - acc: 1.0000\n",
      "Epoch 6/10\n",
      "20s - loss: 0.0016 - acc: 1.0000\n",
      "Epoch 7/10\n",
      "20s - loss: 0.0012 - acc: 1.0000\n",
      "Epoch 8/10\n",
      "20s - loss: 8.7141e-04 - acc: 1.0000\n",
      "Epoch 9/10\n",
      "20s - loss: 6.6688e-04 - acc: 1.0000\n",
      "Epoch 10/10\n",
      "20s - loss: 5.2529e-04 - acc: 1.0000\n"
     ]
    },
    {
     "data": {
      "text/plain": [
       "<keras.callbacks.History at 0x230cfa9cbe0>"
      ]
     },
     "execution_count": 12,
     "metadata": {},
     "output_type": "execute_result"
    }
   ],
   "source": [
    "model.compile(loss='binary_crossentropy', optimizer='adam', metrics=['accuracy'])\n",
    "# fit network\n",
    "model.fit(training_data,training_labels, epochs=10, verbose=2)"
   ]
  },
  {
   "cell_type": "code",
   "execution_count": 13,
   "metadata": {},
   "outputs": [
    {
     "name": "stdout",
     "output_type": "stream",
     "text": [
      "Train Accuracy: 100.000000\n"
     ]
    }
   ],
   "source": [
    "loss, acc = model.evaluate(training_data,training_labels, verbose=0)\n",
    "print('Train Accuracy: %f' % (acc*100))"
   ]
  },
  {
   "cell_type": "code",
   "execution_count": 14,
   "metadata": {},
   "outputs": [
    {
     "name": "stdout",
     "output_type": "stream",
     "text": [
      "(200, 1255)\n"
     ]
    }
   ],
   "source": [
    "testing_data=tokenizer.texts_to_sequences(testing_data)\n",
    "testing_data=pad_sequences(testing_data, maxlen=max_length, padding='post')\n",
    "print(testing_data.shape)\n",
    "# evaluate\n",
    "loss, acc = model.evaluate(testing_data,testing_labels, verbose=0)"
   ]
  },
  {
   "cell_type": "code",
   "execution_count": 15,
   "metadata": {},
   "outputs": [
    {
     "name": "stdout",
     "output_type": "stream",
     "text": [
      "0.885\n"
     ]
    }
   ],
   "source": [
    "print(acc)"
   ]
  },
  {
   "cell_type": "code",
   "execution_count": null,
   "metadata": {},
   "outputs": [],
   "source": []
  }
 ],
 "metadata": {
  "kernelspec": {
   "display_name": "Python 3",
   "language": "python",
   "name": "python3"
  },
  "language_info": {
   "codemirror_mode": {
    "name": "ipython",
    "version": 3
   },
   "file_extension": ".py",
   "mimetype": "text/x-python",
   "name": "python",
   "nbconvert_exporter": "python",
   "pygments_lexer": "ipython3",
   "version": "3.6.1"
  }
 },
 "nbformat": 4,
 "nbformat_minor": 2
}
