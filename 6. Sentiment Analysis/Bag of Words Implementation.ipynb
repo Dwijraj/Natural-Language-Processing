{
 "cells": [
  {
   "cell_type": "code",
   "execution_count": 3,
   "metadata": {},
   "outputs": [],
   "source": [
    "import os\n",
    "Neg=os.path.join(os.getcwd(),\"neg\")\n",
    "Pos=os.path.join(os.getcwd(),\"pos\")"
   ]
  },
  {
   "cell_type": "code",
   "execution_count": 4,
   "metadata": {},
   "outputs": [],
   "source": [
    "Neg_doc=[]\n",
    "Pos_doc=[]\n",
    "def GetDocs(Folder,Type_Doc):\n",
    "    for file in os.listdir(Folder):\n",
    "        File=open(os.path.join(Folder,file),'rt')\n",
    "        text=File.read()\n",
    "        File.close()\n",
    "        Type_Doc.append(text)\n",
    "    return Type_Doc    "
   ]
  },
  {
   "cell_type": "code",
   "execution_count": 5,
   "metadata": {},
   "outputs": [
    {
     "ename": "FileNotFoundError",
     "evalue": "[WinError 3] The system cannot find the path specified: 'C:\\\\Users\\\\Dwijraj\\\\Natural-Language-Processing\\\\7. Sentiment Analysis\\\\neg'",
     "output_type": "error",
     "traceback": [
      "\u001b[1;31m---------------------------------------------------------------------------\u001b[0m",
      "\u001b[1;31mFileNotFoundError\u001b[0m                         Traceback (most recent call last)",
      "\u001b[1;32m<ipython-input-5-4b91929a2223>\u001b[0m in \u001b[0;36m<module>\u001b[1;34m()\u001b[0m\n\u001b[1;32m----> 1\u001b[1;33m \u001b[0mNeg_doc\u001b[0m\u001b[1;33m=\u001b[0m\u001b[0mGetDocs\u001b[0m\u001b[1;33m(\u001b[0m\u001b[0mNeg\u001b[0m\u001b[1;33m,\u001b[0m\u001b[0mNeg_doc\u001b[0m\u001b[1;33m)\u001b[0m\u001b[1;33m\u001b[0m\u001b[0m\n\u001b[0m\u001b[0;32m      2\u001b[0m \u001b[0mPos_doc\u001b[0m\u001b[1;33m=\u001b[0m\u001b[0mGetDocs\u001b[0m\u001b[1;33m(\u001b[0m\u001b[0mPos\u001b[0m\u001b[1;33m,\u001b[0m\u001b[0mPos_doc\u001b[0m\u001b[1;33m)\u001b[0m\u001b[1;33m\u001b[0m\u001b[0m\n",
      "\u001b[1;32m<ipython-input-4-6655186147a6>\u001b[0m in \u001b[0;36mGetDocs\u001b[1;34m(Folder, Type_Doc)\u001b[0m\n\u001b[0;32m      2\u001b[0m \u001b[0mPos_doc\u001b[0m\u001b[1;33m=\u001b[0m\u001b[1;33m[\u001b[0m\u001b[1;33m]\u001b[0m\u001b[1;33m\u001b[0m\u001b[0m\n\u001b[0;32m      3\u001b[0m \u001b[1;32mdef\u001b[0m \u001b[0mGetDocs\u001b[0m\u001b[1;33m(\u001b[0m\u001b[0mFolder\u001b[0m\u001b[1;33m,\u001b[0m\u001b[0mType_Doc\u001b[0m\u001b[1;33m)\u001b[0m\u001b[1;33m:\u001b[0m\u001b[1;33m\u001b[0m\u001b[0m\n\u001b[1;32m----> 4\u001b[1;33m     \u001b[1;32mfor\u001b[0m \u001b[0mfile\u001b[0m \u001b[1;32min\u001b[0m \u001b[0mos\u001b[0m\u001b[1;33m.\u001b[0m\u001b[0mlistdir\u001b[0m\u001b[1;33m(\u001b[0m\u001b[0mFolder\u001b[0m\u001b[1;33m)\u001b[0m\u001b[1;33m:\u001b[0m\u001b[1;33m\u001b[0m\u001b[0m\n\u001b[0m\u001b[0;32m      5\u001b[0m         \u001b[0mFile\u001b[0m\u001b[1;33m=\u001b[0m\u001b[0mopen\u001b[0m\u001b[1;33m(\u001b[0m\u001b[0mos\u001b[0m\u001b[1;33m.\u001b[0m\u001b[0mpath\u001b[0m\u001b[1;33m.\u001b[0m\u001b[0mjoin\u001b[0m\u001b[1;33m(\u001b[0m\u001b[0mFolder\u001b[0m\u001b[1;33m,\u001b[0m\u001b[0mfile\u001b[0m\u001b[1;33m)\u001b[0m\u001b[1;33m,\u001b[0m\u001b[1;34m'rt'\u001b[0m\u001b[1;33m)\u001b[0m\u001b[1;33m\u001b[0m\u001b[0m\n\u001b[0;32m      6\u001b[0m         \u001b[0mtext\u001b[0m\u001b[1;33m=\u001b[0m\u001b[0mFile\u001b[0m\u001b[1;33m.\u001b[0m\u001b[0mread\u001b[0m\u001b[1;33m(\u001b[0m\u001b[1;33m)\u001b[0m\u001b[1;33m\u001b[0m\u001b[0m\n",
      "\u001b[1;31mFileNotFoundError\u001b[0m: [WinError 3] The system cannot find the path specified: 'C:\\\\Users\\\\Dwijraj\\\\Natural-Language-Processing\\\\7. Sentiment Analysis\\\\neg'"
     ]
    }
   ],
   "source": [
    "Neg_doc=GetDocs(Neg,Neg_doc)\n",
    "Pos_doc=GetDocs(Pos,Pos_doc)"
   ]
  },
  {
   "cell_type": "code",
   "execution_count": 65,
   "metadata": {},
   "outputs": [],
   "source": [
    "train_set=Neg_doc[:600]\n",
    "for i in range(600):\n",
    "    train_set.append(Pos_doc[i])"
   ]
  },
  {
   "cell_type": "code",
   "execution_count": 66,
   "metadata": {},
   "outputs": [],
   "source": [
    "test_set=Neg_doc[600:]\n",
    "for i in range(600,len(Pos_doc)):\n",
    "    test_set.append(Pos_doc[i])"
   ]
  },
  {
   "cell_type": "code",
   "execution_count": 67,
   "metadata": {},
   "outputs": [
    {
     "name": "stdout",
     "output_type": "stream",
     "text": [
      "1200\n"
     ]
    }
   ],
   "source": [
    "print(len(train_set))"
   ]
  },
  {
   "cell_type": "code",
   "execution_count": 68,
   "metadata": {},
   "outputs": [
    {
     "name": "stdout",
     "output_type": "stream",
     "text": [
      "800\n"
     ]
    }
   ],
   "source": [
    "print(len(test_set))"
   ]
  },
  {
   "cell_type": "markdown",
   "metadata": {},
   "source": [
    "### Using Count Vectorizer"
   ]
  },
  {
   "cell_type": "code",
   "execution_count": 69,
   "metadata": {},
   "outputs": [],
   "source": [
    "def GetCleanedDoc(DocList):\n",
    "    from nltk import word_tokenize\n",
    "    from nltk import SnowballStemmer\n",
    "    from nltk.corpus import stopwords\n",
    "    stop_words=set(stopwords.words('english'))\n",
    "    Cleaned_List=[]\n",
    "    stemmer=SnowballStemmer('english')\n",
    "    for doc in DocList:\n",
    "        tokens=word_tokenize(doc)\n",
    "        word=''\n",
    "        for token in tokens:\n",
    "            if token.isalpha() and token not in stop_words:\n",
    "                word+=(stemmer.stem(token))+' '\n",
    "        Cleaned_List.append(word)\n",
    "    return Cleaned_List   \n",
    "    "
   ]
  },
  {
   "cell_type": "code",
   "execution_count": 70,
   "metadata": {},
   "outputs": [
    {
     "name": "stdout",
     "output_type": "stream",
     "text": [
      "plot : two teen couples go to a church party , drink and then drive . \n",
      "they get into an accident . \n",
      "one of the guys dies , but his girlfriend continues to see him in her life , and has nightmares . \n",
      "what's the deal ? \n",
      "watch the movie and \" sorta \" find out . . . \n",
      "critique : a mind-fuck movie for the teen generation that touches on a very cool idea , but presents it in a very bad package . \n",
      "which is what makes this review an even harder one to write , since i generally applaud films which attempt to break the mold , mess with your head and such ( lost highway & memento ) , but there are good and bad ways of making all types of films , and these folks just didn't snag this one correctly . \n",
      "they seem to have taken this pretty neat concept , but executed it terribly . \n",
      "so what are the problems with the movie ? \n",
      "well , its main problem is that it's simply too jumbled . \n",
      "it starts off \" normal \" but then downshifts into this \" fantasy \" world in which you , as an audience member , have no idea what's going on . \n",
      "there are dreams , there are characters coming back from the dead , there are others who look like the dead , there are strange apparitions , there are disappearances , there are a looooot of chase scenes , there are tons of weird things that happen , and most of it is simply not explained . \n",
      "now i personally don't mind trying to unravel a film every now and then , but when all it does is give me the same clue over and over again , i get kind of fed up after a while , which is this film's biggest problem . \n",
      "it's obviously got this big secret to hide , but it seems to want to hide it completely until its final five minutes . \n",
      "and do they make things entertaining , thrilling or even engaging , in the meantime ? \n",
      "not really . \n",
      "the sad part is that the arrow and i both dig on flicks like this , so we actually figured most of it out by the half-way point , so all of the strangeness after that did start to make a little bit of sense , but it still didn't the make the film all that more entertaining . \n",
      "i guess the bottom line with movies like this is that you should always make sure that the audience is \" into it \" even before they are given the secret password to enter your world of understanding . \n",
      "i mean , showing melissa sagemiller running away from visions for about 20 minutes throughout the movie is just plain lazy ! ! \n",
      "okay , we get it . . . there \n",
      "are people chasing her and we don't know who they are . \n",
      "do we really need to see it over and over again ? \n",
      "how about giving us different scenes offering further insight into all of the strangeness going down in the movie ? \n",
      "apparently , the studio took this film away from its director and chopped it up themselves , and it shows . \n",
      "there might've been a pretty decent teen mind-fuck movie in here somewhere , but i guess \" the suits \" decided that turning it into a music video with little edge , would make more sense . \n",
      "the actors are pretty good for the most part , although wes bentley just seemed to be playing the exact same character that he did in american beauty , only in a new neighborhood . \n",
      "but my biggest kudos go out to sagemiller , who holds her own throughout the entire film , and actually has you feeling her character's unraveling . \n",
      "overall , the film doesn't stick because it doesn't entertain , it's confusing , it rarely excites and it feels pretty redundant for most of its runtime , despite a pretty cool ending and explanation to all of the craziness that came before it . \n",
      "oh , and by the way , this is not a horror or teen slasher flick . . . it's \n",
      "just packaged to look that way because someone is apparently assuming that the genre is still hot with the kids . \n",
      "it also wrapped production two years ago and has been sitting on the shelves ever since . \n",
      "whatever . . . skip \n",
      "it ! \n",
      "where's joblo coming from ? \n",
      "a nightmare of elm street 3 ( 7/10 ) - blair witch 2 ( 7/10 ) - the crow ( 9/10 ) - the crow : salvation ( 4/10 ) - lost highway ( 10/10 ) - memento ( 10/10 ) - the others ( 9/10 ) - stir of echoes ( 8/10 ) \n",
      "\n"
     ]
    }
   ],
   "source": [
    "#train_set=GetCleanedDoc(train_set) #Comment this line when using doc without stemming\n",
    "#test_set=GetCleanedDoc(test_set)   #Comment this line when using doc without stemming\n",
    "print(train_set[0])"
   ]
  },
  {
   "cell_type": "code",
   "execution_count": 71,
   "metadata": {},
   "outputs": [],
   "source": [
    "from sklearn.feature_extraction.text import CountVectorizer\n",
    "vectorizer=CountVectorizer(train_set,analyzer='word',stop_words='english',max_features=1500)\n",
    "Transformed=vectorizer.fit_transform(train_set)"
   ]
  },
  {
   "cell_type": "code",
   "execution_count": 72,
   "metadata": {},
   "outputs": [
    {
     "name": "stdout",
     "output_type": "stream",
     "text": [
      "['000', '10', '13', '15', '1997', '1998', '1999', '20', '54', '90', 'ability', 'able', 'absolutely', 'academy', 'accent', 'accident', 'act', 'acting', 'action', 'actions', 'actor', 'actors', 'actress', 'actual', 'actually', 'adams', 'add', 'addition', 'adds', 'admit', 'adult', 'adults', 'adventure', 'affair', 'affleck', 'age', 'agent', 'ago', 'air', 'alan', 'alien', 'aliens', 'alive', 'allen', 'allow', 'allows', 'amazing', 'america', 'american', 'amusing', 'amy', 'anderson', 'angry', 'animated', 'animation', 'annoying', 'answer', 'anti', 'apart', 'apartment', 'apes', 'apparent', 'apparently', 'appeal', 'appear', 'appearance', 'appears', 'appreciate', 'approach', 'appropriate', 'aren', 'army', 'arnold', 'arrives', 'art', 'artist', 'arts', 'aside', 'ask', 'asked', 'asks', 'aspect', 'aspects', 'ass', 'atmosphere', 'attack', 'attempt', 'attempts', 'attention', 'attitude', 'audience', 'audiences', 'average', 'avoid', 'award', 'away', 'awful', 'baby', 'background', 'bad', 'band', 'barely', 'based', 'basic', 'basically', 'batman', 'battle', 'beast', 'beautiful', 'beauty', 'begin', 'beginning', 'begins', 'believable', 'believe', 'ben', 'best', 'better', 'big', 'biggest', 'billy', 'bit', 'bizarre', 'black', 'blade', 'blair', 'blame', 'bland', 'blood', 'blue', 'board', 'boat', 'bob', 'bobby', 'body', 'bond', 'boogie', 'book', 'books', 'bored', 'boring', 'born', 'boss', 'box', 'boy', 'boyfriend', 'boys', 'break', 'brief', 'bright', 'brilliant', 'bring', 'bringing', 'brings', 'british', 'brother', 'brothers', 'brought', 'brown', 'bruce', 'budget', 'bug', 'building', 'bunch', 'burton', 'business', 'buy', 'cage', 'called', 'calls', 'came', 'cameo', 'camera', 'cameron', 'camp', 'campbell', 'captain', 'car', 'care', 'career', 'cares', 'carrey', 'carry', 'carter', 'cartoon', 'case', 'cast', 'casting', 'catch', 'caught', 'cause', 'central', 'century', 'certain', 'certainly', 'chan', 'chance', 'change', 'changes', 'character', 'characters', 'charles', 'charlie', 'charm', 'charming', 'chase', 'cheap', 'check', 'chemistry', 'child', 'children', 'chinese', 'choice', 'chosen', 'chris', 'christmas', 'christopher', 'cinema', 'cinematic', 'cinematography', 'city', 'claire', 'class', 'classic', 'clear', 'clearly', 'clever', 'climax', 'close', 'club', 'cold', 'college', 'color', 'come', 'comedic', 'comedies', 'comedy', 'comes', 'comic', 'coming', 'common', 'company', 'complete', 'completely', 'complex', 'computer', 'concept', 'conclusion', 'conflict', 'confused', 'consider', 'considered', 'considering', 'constantly', 'contact', 'contains', 'content', 'continue', 'continues', 'contrived', 'control', 'convincing', 'cool', 'cop', 'cops', 'couldn', 'count', 'country', 'couple', 'course', 'cover', 'crap', 'crash', 'crazy', 'create', 'created', 'creates', 'creating', 'creative', 'creature', 'credit', 'credits', 'creepy', 'crew', 'crime', 'criminal', 'critics', 'cross', 'crowd', 'cruise', 'crystal', 'cult', 'culture', 'current', 'cusack', 'cut', 'cute', 'dad', 'damme', 'damn', 'damon', 'dance', 'dangerous', 'danny', 'dark', 'date', 'daughter', 'david', 'day', 'days', 'dead', 'deal', 'death', 'debut', 'decent', 'decide', 'decided', 'decides', 'deep', 'definitely', 'delivers', 'dennis', 'depth', 'deserves', 'design', 'desperate', 'despite', 'details', 'detective', 'developed', 'development', 'device', 'devil', 'dialogue', 'did', 'didn', 'die', 'died', 'dies', 'difference', 'different', 'difficult', 'dimensional', 'directed', 'directing', 'direction', 'directly', 'director', 'directors', 'disappointing', 'disaster', 'discover', 'discovers', 'disney', 'disturbing', 'doctor', 'documentary', 'does', 'doesn', 'dog', 'doing', 'dollars', 'don', 'door', 'double', 'doubt', 'douglas', 'dr', 'drama', 'dramatic', 'drawn', 'dream', 'dreams', 'drive', 'driver', 'drug', 'dull', 'dumb', 'dvd', 'earlier', 'early', 'earth', 'easily', 'easy', 'ed', 'eddie', 'edge', 'editing', 'edward', 'effect', 'effective', 'effects', 'effort', 'element', 'elements', 'elizabeth', 'emotion', 'emotional', 'emotionally', 'emotions', 'end', 'ending', 'ends', 'energy', 'engaging', 'english', 'enjoy', 'enjoyable', 'enjoyed', 'enter', 'entertaining', 'entertainment', 'entire', 'entirely', 'epic', 'episode', 'equally', 'era', 'eric', 'escape', 'especially', 'event', 'events', 'eventually', 'evil', 'ex', 'exactly', 'example', 'excellent', 'exception', 'exciting', 'exist', 'expect', 'expectations', 'expected', 'expecting', 'experience', 'explain', 'extremely', 'eye', 'eyes', 'face', 'faces', 'fact', 'fail', 'failed', 'fails', 'fair', 'fairly', 'fall', 'falling', 'falls', 'familiar', 'family', 'famous', 'fan', 'fans', 'fantastic', 'fantasy', 'far', 'fare', 'fashion', 'fast', 'father', 'favorite', 'fbi', 'fear', 'feature', 'features', 'featuring', 'feel', 'feeling', 'feels', 'feet', 'fellow', 'felt', 'female', 'fi', 'fiction', 'field', 'fight', 'fighting', 'figure', 'filled', 'film', 'filmed', 'filmmaker', 'filmmakers', 'filmmaking', 'films', 'final', 'finale', 'finally', 'finds', 'fine', 'flat', 'flaws', 'flick', 'flicks', 'floor', 'flying', 'flynt', 'focus', 'folks', 'follow', 'following', 'follows', 'food', 'footage', 'force', 'forced', 'forces', 'ford', 'forget', 'form', 'formula', 'forward', 'fox', 'frame', 'frank', 'free', 'french', 'fresh', 'friend', 'friends', 'frightening', 'fully', 'fun', 'funny', 'future', 'gags', 'game', 'games', 'gang', 'gary', 'gave', 'gay', 'general', 'generally', 'generated', 'generation', 'genius', 'genre', 'genuine', 'george', 'gets', 'getting', 'giant', 'gibson', 'girl', 'girlfriend', 'girls', 'given', 'gives', 'giving', 'goal', 'god', 'godzilla', 'goes', 'going', 'gone', 'good', 'gore', 'got', 'gotten', 'government', 'grace', 'grand', 'grant', 'graphic', 'great', 'greatest', 'green', 'ground', 'group', 'grows', 'guess', 'guilty', 'gun', 'guy', 'guys', 'hair', 'half', 'hall', 'hand', 'hands', 'hanks', 'happen', 'happened', 'happens', 'happy', 'hard', 'hardly', 'harry', 'hasn', 'hate', 'haven', 'having', 'head', 'heads', 'hear', 'heard', 'heart', 'heavy', 'helen', 'hell', 'help', 'helps', 'henry', 'hero', 'heroes', 'high', 'highly', 'hilarious', 'hill', 'history', 'hit', 'hits', 'hold', 'holds', 'hollow', 'hollywood', 'home', 'honest', 'hong', 'hope', 'hopkins', 'horrible', 'horror', 'hospital', 'hot', 'hour', 'hours', 'house', 'huge', 'human', 'humanity', 'humans', 'humor', 'humour', 'hunting', 'hurt', 'husband', 'ice', 'idea', 'ideas', 'identity', 'ii', 'image', 'images', 'imagination', 'imagine', 'immediately', 'impact', 'important', 'impossible', 'impression', 'impressive', 'include', 'included', 'includes', 'including', 'incredible', 'incredibly', 'individual', 'industry', 'information', 'inside', 'inspired', 'instead', 'intelligence', 'intelligent', 'intended', 'interested', 'interesting', 'intriguing', 'introduced', 'involved', 'involves', 'involving', 'island', 'isn', 'issues', 'jack', 'jackie', 'jackson', 'jail', 'james', 'jason', 'jay', 'jean', 'jedi', 'jeff', 'jennifer', 'jerry', 'jim', 'job', 'joe', 'john', 'join', 'joke', 'jokes', 'jones', 'journey', 'jr', 'julia', 'julie', 'just', 'kate', 'keeping', 'keeps', 'kelly', 'kept', 'kevin', 'key', 'kid', 'kids', 'kill', 'killed', 'killer', 'killing', 'kills', 'kind', 'king', 'kiss', 'knew', 'know', 'known', 'knows', 'kong', 'la', 'lack', 'lacks', 'lady', 'lame', 'land', 'language', 'large', 'larry', 'late', 'later', 'latest', 'laugh', 'laughing', 'laughs', 'law', 'lawyer', 'lead', 'leader', 'leading', 'leads', 'league', 'learn', 'learns', 'leave', 'leaves', 'leaving', 'led', 'lee', 'left', 'legend', 'length', 'let', 'lets', 'level', 'lies', 'life', 'light', 'like', 'liked', 'likely', 'likes', 'limited', 'line', 'liners', 'lines', 'list', 'literally', 'little', 'live', 'lives', 'living', 'll', 'local', 'long', 'longer', 'look', 'looked', 'looking', 'looks', 'lord', 'lose', 'lost', 'lot', 'lots', 'loud', 'love', 'loved', 'lover', 'loves', 'loving', 'low', 'lucas', 'lucky', 'machine', 'mad', 'magic', 'main', 'major', 'make', 'makes', 'making', 'male', 'man', 'managed', 'manages', 'manner', 'mark', 'marriage', 'married', 'mars', 'martial', 'martin', 'mary', 'master', 'match', 'material', 'matrix', 'matt', 'matter', 'matthew', 'max', 'maybe', 'mean', 'meaning', 'means', 'meant', 'meet', 'meeting', 'meets', 'member', 'members', 'memorable', 'men', 'mention', 'mentioned', 'merely', 'mess', 'message', 'michael', 'middle', 'mike', 'military', 'million', 'mind', 'minor', 'minute', 'minutes', 'miss', 'missing', 'mission', 'mob', 'modern', 'moment', 'moments', 'money', 'monkey', 'monster', 'months', 'mood', 'moore', 'mother', 'motion', 'mouth', 'moves', 'movie', 'movies', 'moving', 'mr', 'mrs', 'ms', 'mulan', 'murder', 'murphy', 'music', 'musical', 'mysterious', 'mystery', 'named', 'nasty', 'natural', 'nature', 'near', 'nearly', 'necessary', 'need', 'needed', 'needs', 'new', 'news', 'nice', 'nicely', 'nick', 'night', 'nights', 'niro', 'non', 'normal', 'note', 'notice', 'novel', 'nuclear', 'number', 'numerous', 'obvious', 'obviously', 'occasionally', 'odd', 'offer', 'offers', 'office', 'officer', 'oh', 'ok', 'okay', 'old', 'older', 'ones', 'open', 'opening', 'opens', 'opinion', 'opportunity', 'opposite', 'order', 'original', 'oscar', 'outside', 'overall', 'overly', 'owner', 'pace', 'paced', 'pain', 'pair', 'parents', 'park', 'particular', 'particularly', 'partner', 'parts', 'party', 'pass', 'past', 'patch', 'pathetic', 'paul', 'pay', 'people', 'perfect', 'perfectly', 'performance', 'performances', 'period', 'person', 'personal', 'personality', 'peter', 'pg', 'physical', 'pick', 'picture', 'pictures', 'piece', 'pieces', 'place', 'places', 'plan', 'plane', 'planet', 'plans', 'play', 'played', 'players', 'playing', 'plays', 'plenty', 'plot', 'plus', 'point', 'pointless', 'points', 'police', 'political', 'poor', 'poorly', 'pop', 'popular', 'porn', 'portrayal', 'possible', 'possibly', 'potential', 'power', 'powerful', 'predictable', 'premise', 'presence', 'present', 'presented', 'president', 'pretty', 'previous', 'price', 'prison', 'private', 'probably', 'problem', 'problems', 'produced', 'producer', 'product', 'production', 'professional', 'professor', 'project', 'promise', 'protagonist', 'prove', 'proves', 'provide', 'provided', 'provides', 'public', 'pull', 'pulp', 'pure', 'purpose', 'puts', 'quality', 'queen', 'question', 'questions', 'quick', 'quickly', 'quite', 'race', 'radio', 'rare', 'rarely', 'rate', 'rated', 'rating', 'ray', 'reach', 'read', 'reading', 'ready', 'real', 'realistic', 'reality', 'realize', 'realized', 'really', 'reason', 'reasons', 'recent', 'recently', 'recommend', 'red', 'reeves', 'relationship', 'relationships', 'release', 'released', 'relief', 'remains', 'remember', 'rent', 'rescue', 'respect', 'rest', 'result', 'results', 'return', 'returns', 'reveal', 'revenge', 'review', 'reviews', 'rich', 'richard', 'ride', 'ridiculous', 'right', 'rip', 'ripley', 'rising', 'road', 'rob', 'robert', 'robin', 'rock', 'rocky', 'roger', 'role', 'roles', 'romance', 'romantic', 'room', 'rose', 'rules', 'run', 'running', 'runs', 'rush', 'russell', 'ryan', 'sad', 'sadly', 'safe', 'said', 'sam', 'sandler', 'sarah', 'satire', 'save', 'saving', 'saw', 'say', 'saying', 'says', 'scale', 'scary', 'scene', 'scenes', 'school', 'sci', 'science', 'score', 'scott', 'scream', 'screen', 'screenplay', 'screenwriter', 'script', 'sea', 'sean', 'search', 'second', 'secret', 'seeing', 'seemingly', 'seen', 'sees', 'self', 'send', 'sense', 'sent', 'sequel', 'sequence', 'sequences', 'series', 'seriously', 'serve', 'set', 'sets', 'setting', 'seven', 'sex', 'sexual', 'sexy', 'shallow', 'shame', 'share', 'sheer', 'ship', 'shock', 'shoot', 'shooting', 'short', 'shot', 'shots', 'shouldn', 'showing', 'shown', 'shows', 'shrek', 'sidney', 'sight', 'silent', 'silly', 'similar', 'simon', 'simple', 'simply', 'singer', 'single', 'sister', 'sit', 'sitting', 'situation', 'situations', 'skin', 'slasher', 'slightly', 'slow', 'slowly', 'small', 'smart', 'smith', 'snake', 'social', 'society', 'solid', 'somewhat', 'son', 'song', 'songs', 'soon', 'sort', 'soul', 'sound', 'sounds', 'soundtrack', 'space', 'spawn', 'speak', 'speaking', 'special', 'species', 'speech', 'speed', 'spend', 'spends', 'spent', 'spice', 'spielberg', 'spirit', 'stage', 'stand', 'standard', 'stands', 'star', 'starring', 'stars', 'starship', 'start', 'starts', 'state', 'states', 'station', 'stay', 'steal', 'step', 'stephen', 'steve', 'steven', 'stock', 'stone', 'stop', 'store', 'stories', 'story', 'storyline', 'straight', 'strange', 'street', 'strike', 'strong', 'stuart', 'stuck', 'student', 'studio', 'stuff', 'stunning', 'stupid', 'style', 'sub', 'subject', 'subplot', 'subtle', 'succeeds', 'success', 'successful', 'suddenly', 'summer', 'superb', 'superior', 'support', 'supporting', 'suppose', 'supposed', 'supposedly', 'sure', 'surprise', 'surprised', 'surprising', 'surprisingly', 'suspect', 'suspense', 'sweet', 'sympathetic', 'taken', 'takes', 'taking', 'tale', 'talent', 'talented', 'talents', 'talk', 'talking', 'tarantino', 'target', 'tarzan', 'task', 'teacher', 'team', 'technical', 'teen', 'teenage', 'television', 'tell', 'telling', 'tells', 'tension', 'terms', 'terrible', 'terrific', 'thanks', 'theater', 'theaters', 'theme', 'thing', 'things', 'think', 'thinking', 'thinks', 'thomas', 'thought', 'thriller', 'throw', 'thrown', 'tim', 'time', 'times', 'titanic', 'title', 'today', 'told', 'tom', 'tommy', 'tone', 'tony', 'took', 'total', 'totally', 'touch', 'touching', 'tough', 'town', 'track', 'trailer', 'train', 'travel', 'travolta', 'trek', 'tried', 'tries', 'trip', 'troopers', 'trouble', 'true', 'truly', 'truman', 'truth', 'try', 'trying', 'turn', 'turned', 'turns', 'tv', 'twice', 'twist', 'twists', 'type', 'typical', 'ultimately', 'understand', 'unfortunately', 'unfunny', 'unique', 'united', 'unless', 'unlike', 'ups', 'urban', 'use', 'used', 'uses', 'using', 'usual', 'usually', 'vampire', 'van', 'various', 've', 'vegas', 'version', 'victim', 'video', 'view', 'viewer', 'viewers', 'viewing', 'villain', 'vincent', 'violence', 'violent', 'virtually', 'visual', 'visuals', 'voice', 'wait', 'waiting', 'walk', 'walking', 'wall', 'want', 'wanted', 'wants', 'war', 'wars', 'washington', 'wasn', 'waste', 'wasted', 'watch', 'watching', 'water', 'way', 'ways', 'weak', 'wedding', 'week', 'weird', 'welcome', 'went', 'west', 'white', 'wide', 'wife', 'wild', 'william', 'williams', 'willing', 'willis', 'win', 'window', 'winning', 'wise', 'wish', 'witch', 'witty', 'woman', 'women', 'won', 'wonder', 'wonderful', 'wonderfully', 'woo', 'wood', 'woods', 'woody', 'word', 'words', 'work', 'worked', 'working', 'works', 'world', 'worse', 'worst', 'worth', 'worthy', 'wouldn', 'write', 'writer', 'writers', 'writing', 'written', 'wrong', 'wrote', 'year', 'years', 'yes', 'york', 'young', 'younger', 'zero']\n"
     ]
    }
   ],
   "source": [
    "print((vectorizer.get_feature_names()))"
   ]
  },
  {
   "cell_type": "code",
   "execution_count": 73,
   "metadata": {},
   "outputs": [],
   "source": [
    "import numpy as np\n",
    "training_data=vectorizer.transform(train_set).toarray()\n",
    "training_labels=np.zeros(shape=(1200,1))\n",
    "training_labels[600:]=1\n",
    "testing_data=vectorizer.transform(test_set).toarray()\n",
    "testing_labels=np.zeros(shape=(800,1))\n",
    "testing_labels[400:]=1"
   ]
  },
  {
   "cell_type": "code",
   "execution_count": 74,
   "metadata": {},
   "outputs": [
    {
     "name": "stdout",
     "output_type": "stream",
     "text": [
      "(1200, 1500)\n",
      "(1200, 1)\n",
      "(800, 1500)\n",
      "(800, 1)\n"
     ]
    }
   ],
   "source": [
    "print(training_data.shape)\n",
    "print(training_labels.shape)\n",
    "print(testing_data.shape)\n",
    "print(testing_labels.shape)"
   ]
  },
  {
   "cell_type": "markdown",
   "metadata": {},
   "source": [
    "### Using SVM"
   ]
  },
  {
   "cell_type": "code",
   "execution_count": 75,
   "metadata": {},
   "outputs": [
    {
     "name": "stderr",
     "output_type": "stream",
     "text": [
      "c:\\users\\dwijraj\\appdata\\local\\programs\\python\\python36\\lib\\site-packages\\sklearn\\utils\\validation.py:547: DataConversionWarning: A column-vector y was passed when a 1d array was expected. Please change the shape of y to (n_samples, ), for example using ravel().\n",
      "  y = column_or_1d(y, warn=True)\n"
     ]
    },
    {
     "data": {
      "text/plain": [
       "SVC(C=1.0, cache_size=200, class_weight=None, coef0=0.0,\n",
       "  decision_function_shape='ovr', degree=3, gamma='auto', kernel='rbf',\n",
       "  max_iter=-1, probability=False, random_state=None, shrinking=True,\n",
       "  tol=0.001, verbose=False)"
      ]
     },
     "execution_count": 75,
     "metadata": {},
     "output_type": "execute_result"
    }
   ],
   "source": [
    "from sklearn.svm import SVC\n",
    "classifier=SVC()\n",
    "classifier.fit(X=training_data,y=training_labels)"
   ]
  },
  {
   "cell_type": "markdown",
   "metadata": {},
   "source": [
    "#### Without stemming result"
   ]
  },
  {
   "cell_type": "code",
   "execution_count": 76,
   "metadata": {},
   "outputs": [
    {
     "name": "stdout",
     "output_type": "stream",
     "text": [
      "0.80375\n",
      "0.88\n"
     ]
    }
   ],
   "source": [
    "Test_Score=classifier.score(testing_data,testing_labels)\n",
    "Train_Score=classifier.score(training_data,training_labels)\n",
    "print(Test_Score)\n",
    "print(Train_Score)"
   ]
  },
  {
   "cell_type": "markdown",
   "metadata": {},
   "source": [
    "#### With stemming result"
   ]
  },
  {
   "cell_type": "code",
   "execution_count": 61,
   "metadata": {},
   "outputs": [
    {
     "name": "stdout",
     "output_type": "stream",
     "text": [
      "0.81375\n",
      "0.8891666666666667\n"
     ]
    }
   ],
   "source": [
    "#print(classifier.predict(testing_data))\n",
    "Test_Score=classifier.score(testing_data,testing_labels)\n",
    "Train_Score=classifier.score(training_data,training_labels)\n",
    "print(Test_Score)\n",
    "print(Train_Score)"
   ]
  },
  {
   "cell_type": "markdown",
   "metadata": {},
   "source": [
    "## Using KNN"
   ]
  },
  {
   "cell_type": "code",
   "execution_count": 2,
   "metadata": {},
   "outputs": [
    {
     "ename": "ImportError",
     "evalue": "cannot import name 'KNN'",
     "output_type": "error",
     "traceback": [
      "\u001b[1;31m---------------------------------------------------------------------------\u001b[0m",
      "\u001b[1;31mImportError\u001b[0m                               Traceback (most recent call last)",
      "\u001b[1;32m<ipython-input-2-9cdd28347010>\u001b[0m in \u001b[0;36m<module>\u001b[1;34m()\u001b[0m\n\u001b[1;32m----> 1\u001b[1;33m \u001b[1;32mfrom\u001b[0m \u001b[0msklearn\u001b[0m\u001b[1;33m.\u001b[0m\u001b[0mneighbors\u001b[0m \u001b[1;32mimport\u001b[0m \u001b[0mKNN\u001b[0m\u001b[1;33m\u001b[0m\u001b[0m\n\u001b[0m\u001b[0;32m      2\u001b[0m \u001b[0mclassifier\u001b[0m\u001b[1;33m=\u001b[0m\u001b[0mKNN\u001b[0m\u001b[1;33m(\u001b[0m\u001b[1;33m)\u001b[0m\u001b[1;33m\u001b[0m\u001b[0m\n",
      "\u001b[1;31mImportError\u001b[0m: cannot import name 'KNN'"
     ]
    }
   ],
   "source": [
    "from sklearn.neighbors import KNeighborsClassifier\n",
    "classifier=KNeighborsClassifier()\n",
    "classifier.fit(training_data,training_labels)"
   ]
  },
  {
   "cell_type": "markdown",
   "metadata": {},
   "source": [
    "#### With stemming"
   ]
  },
  {
   "cell_type": "code",
   "execution_count": null,
   "metadata": {},
   "outputs": [],
   "source": [
    "Test_Score=classifier.score(testing_data,testing_labels)\n",
    "Train_Score=classifier.score(training_data,training_labels)\n",
    "print(Test_Score)\n",
    "print(Train_Score)"
   ]
  },
  {
   "cell_type": "markdown",
   "metadata": {},
   "source": [
    "#### Without stemming"
   ]
  },
  {
   "cell_type": "code",
   "execution_count": null,
   "metadata": {},
   "outputs": [],
   "source": [
    "Test_Score=classifier.score(testing_data,testing_labels)\n",
    "Train_Score=classifier.score(training_data,training_labels)\n",
    "print(Test_Score)\n",
    "print(Train_Score)"
   ]
  }
 ],
 "metadata": {
  "kernelspec": {
   "display_name": "Python 3",
   "language": "python",
   "name": "python3"
  },
  "language_info": {
   "codemirror_mode": {
    "name": "ipython",
    "version": 3
   },
   "file_extension": ".py",
   "mimetype": "text/x-python",
   "name": "python",
   "nbconvert_exporter": "python",
   "pygments_lexer": "ipython3",
   "version": "3.6.1"
  }
 },
 "nbformat": 4,
 "nbformat_minor": 2
}
